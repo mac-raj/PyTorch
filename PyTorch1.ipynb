{
  "nbformat": 4,
  "nbformat_minor": 0,
  "metadata": {
    "colab": {
      "provenance": [],
      "authorship_tag": "ABX9TyMsEgyXX6Kt/BhamITEkegR",
      "include_colab_link": true
    },
    "kernelspec": {
      "name": "python3",
      "display_name": "Python 3"
    },
    "language_info": {
      "name": "python"
    },
    "accelerator": "GPU",
    "gpuClass": "standard"
  },
  "cells": [
    {
      "cell_type": "markdown",
      "metadata": {
        "id": "view-in-github",
        "colab_type": "text"
      },
      "source": [
        "<a href=\"https://colab.research.google.com/github/mac-raj/PyTorch/blob/main/PyTorch1.ipynb\" target=\"_parent\"><img src=\"https://colab.research.google.com/assets/colab-badge.svg\" alt=\"Open In Colab\"/></a>"
      ]
    },
    {
      "cell_type": "markdown",
      "source": [
        "# PyTorch Tut1"
      ],
      "metadata": {
        "id": "UXaiM4vLCLo5"
      }
    },
    {
      "cell_type": "code",
      "execution_count": 1,
      "metadata": {
        "id": "YIPol4KJAnOW"
      },
      "outputs": [],
      "source": [
        "import torch\n",
        "import numpy as np"
      ]
    },
    {
      "cell_type": "markdown",
      "source": [
        "**Empty Values Tensor**"
      ],
      "metadata": {
        "id": "SwK-1OSBE0KQ"
      }
    },
    {
      "cell_type": "code",
      "source": [
        "# Print Empty values tensor\n",
        "# Empty values tensor means values are not assign yet\n",
        "x = torch.empty(1)\n",
        "print(x)"
      ],
      "metadata": {
        "colab": {
          "base_uri": "https://localhost:8080/"
        },
        "id": "nYJkIM8ICLGa",
        "outputId": "ab47a0f7-6a20-4552-eeb1-6b46d1f61c7a"
      },
      "execution_count": 2,
      "outputs": [
        {
          "output_type": "stream",
          "name": "stdout",
          "text": [
            "tensor([1253.1230])\n"
          ]
        }
      ]
    },
    {
      "cell_type": "code",
      "source": [
        "# Print one dimensional Empty values tensor of Size 3 \n",
        "x = torch.empty(3)\n",
        "print(x)"
      ],
      "metadata": {
        "colab": {
          "base_uri": "https://localhost:8080/"
        },
        "id": "6iWL8P2_CnVs",
        "outputId": "c1c437d5-b92a-4104-d214-36245361de5a"
      },
      "execution_count": 3,
      "outputs": [
        {
          "output_type": "stream",
          "name": "stdout",
          "text": [
            "tensor([1.0585e-34, 0.0000e+00, 1.0601e-34])\n"
          ]
        }
      ]
    },
    {
      "cell_type": "code",
      "source": [
        "# Print two dimensional Empty values tensor of Size 2,3 \n",
        "x = torch.empty(2,3)\n",
        "print(x)"
      ],
      "metadata": {
        "colab": {
          "base_uri": "https://localhost:8080/"
        },
        "id": "A7UJpugXDKJU",
        "outputId": "2dc371ea-d7ef-4775-d44a-01b1452f49db"
      },
      "execution_count": 4,
      "outputs": [
        {
          "output_type": "stream",
          "name": "stdout",
          "text": [
            "tensor([[1.0606e-34, 0.0000e+00, 1.0607e-34],\n",
            "        [0.0000e+00, 5.5432e+21, 4.5689e-41]])\n"
          ]
        }
      ]
    },
    {
      "cell_type": "code",
      "source": [
        "# Print three dimensional Empty values tensor of Size 2,2,3 \n",
        "x = torch.empty(2,2,3)\n",
        "print(x)"
      ],
      "metadata": {
        "colab": {
          "base_uri": "https://localhost:8080/"
        },
        "id": "TMDhWFnEDo48",
        "outputId": "d5551244-821e-4610-a6cf-e58b5b2c81f7"
      },
      "execution_count": 5,
      "outputs": [
        {
          "output_type": "stream",
          "name": "stdout",
          "text": [
            "tensor([[[9.8773e+21, 4.5689e-41, 9.8773e+21],\n",
            "         [4.5689e-41, 4.4842e-44, 0.0000e+00]],\n",
            "\n",
            "        [[8.9683e-44, 0.0000e+00, 1.0602e-34],\n",
            "         [0.0000e+00, 2.4803e-43, 0.0000e+00]]])\n"
          ]
        }
      ]
    },
    {
      "cell_type": "markdown",
      "source": [
        "**Random Values Tensor**"
      ],
      "metadata": {
        "id": "5S6WvJDHE5W2"
      }
    },
    {
      "cell_type": "code",
      "source": [
        "# Print one dimensional Random tensor\n",
        "# Ranom values tensor means random values assigned \n",
        "x = torch.rand(1)\n",
        "print(x)"
      ],
      "metadata": {
        "colab": {
          "base_uri": "https://localhost:8080/"
        },
        "id": "K4j6UYpzDwSz",
        "outputId": "6fe4e578-537c-4c88-8e1b-7163ad168f87"
      },
      "execution_count": 6,
      "outputs": [
        {
          "output_type": "stream",
          "name": "stdout",
          "text": [
            "tensor([0.5196])\n"
          ]
        }
      ]
    },
    {
      "cell_type": "code",
      "source": [
        "# Print two dimensional Random values tensor of Size 3,2\n",
        "x = torch.rand(3,2)\n",
        "print(x)"
      ],
      "metadata": {
        "colab": {
          "base_uri": "https://localhost:8080/"
        },
        "id": "gCGaRUMzEKml",
        "outputId": "120b063b-d7ec-4bc7-8768-18042fb069f1"
      },
      "execution_count": 7,
      "outputs": [
        {
          "output_type": "stream",
          "name": "stdout",
          "text": [
            "tensor([[0.3921, 0.3944],\n",
            "        [0.1070, 0.8602],\n",
            "        [0.7693, 0.5149]])\n"
          ]
        }
      ]
    },
    {
      "cell_type": "code",
      "source": [
        "# Print three dimensional Random values tensor of Size 2,3,2\n",
        "x = torch.rand(2,3,2)\n",
        "print(x)"
      ],
      "metadata": {
        "colab": {
          "base_uri": "https://localhost:8080/"
        },
        "id": "EoNOPy4YEZcc",
        "outputId": "172109dd-81ab-4cb3-8a2e-00187e3563a1"
      },
      "execution_count": 8,
      "outputs": [
        {
          "output_type": "stream",
          "name": "stdout",
          "text": [
            "tensor([[[0.0376, 0.9625],\n",
            "         [0.4664, 0.1958],\n",
            "         [0.9131, 0.0916]],\n",
            "\n",
            "        [[0.0455, 0.7795],\n",
            "         [0.5041, 0.1747],\n",
            "         [0.6949, 0.9641]]])\n"
          ]
        }
      ]
    },
    {
      "cell_type": "markdown",
      "source": [
        "**Zeroes Values Tensor**"
      ],
      "metadata": {
        "id": "IczI_KyJFDYJ"
      }
    },
    {
      "cell_type": "code",
      "source": [
        "# Print one dimensional zeroes values tensor\n",
        "x = torch.zeros(1)\n",
        "print(x)"
      ],
      "metadata": {
        "colab": {
          "base_uri": "https://localhost:8080/"
        },
        "id": "m8FnE64PEv6F",
        "outputId": "9d4a0b8d-801b-4a0f-f500-3b6088045cfb"
      },
      "execution_count": 9,
      "outputs": [
        {
          "output_type": "stream",
          "name": "stdout",
          "text": [
            "tensor([0.])\n"
          ]
        }
      ]
    },
    {
      "cell_type": "code",
      "source": [
        "# Print two dimensional zero values tensor of Size 3,4\n",
        "x = torch.zeros(3,4)\n",
        "print(x)"
      ],
      "metadata": {
        "colab": {
          "base_uri": "https://localhost:8080/"
        },
        "id": "9Si5mAsvFTB8",
        "outputId": "a2100a55-5cfb-44ee-bc6d-728d53bf4486"
      },
      "execution_count": 10,
      "outputs": [
        {
          "output_type": "stream",
          "name": "stdout",
          "text": [
            "tensor([[0., 0., 0., 0.],\n",
            "        [0., 0., 0., 0.],\n",
            "        [0., 0., 0., 0.]])\n"
          ]
        }
      ]
    },
    {
      "cell_type": "code",
      "source": [
        "# Print three dimensional zero values tensor of Size 2,3,4\n",
        "x = torch.zeros(2,3,4)\n",
        "print(x)"
      ],
      "metadata": {
        "colab": {
          "base_uri": "https://localhost:8080/"
        },
        "id": "uHbjXLlKFe6E",
        "outputId": "ec0e720b-4daa-4afa-b6f3-eb04e94f7844"
      },
      "execution_count": 11,
      "outputs": [
        {
          "output_type": "stream",
          "name": "stdout",
          "text": [
            "tensor([[[0., 0., 0., 0.],\n",
            "         [0., 0., 0., 0.],\n",
            "         [0., 0., 0., 0.]],\n",
            "\n",
            "        [[0., 0., 0., 0.],\n",
            "         [0., 0., 0., 0.],\n",
            "         [0., 0., 0., 0.]]])\n"
          ]
        }
      ]
    },
    {
      "cell_type": "markdown",
      "source": [
        "**Ones Values Tensor**"
      ],
      "metadata": {
        "id": "m3oc5PrAFuRI"
      }
    },
    {
      "cell_type": "code",
      "source": [
        "# Print one dimensional ones values tensor\n",
        "x = torch.ones(1)\n",
        "print(x)"
      ],
      "metadata": {
        "colab": {
          "base_uri": "https://localhost:8080/"
        },
        "id": "jz1Sx7EtFqdE",
        "outputId": "33f43f08-5340-4b6a-96fd-164b84fce9e6"
      },
      "execution_count": 12,
      "outputs": [
        {
          "output_type": "stream",
          "name": "stdout",
          "text": [
            "tensor([1.])\n"
          ]
        }
      ]
    },
    {
      "cell_type": "code",
      "source": [
        "# Print two dimensional ones values tensor of Size 3,4\n",
        "x = torch.ones(3,4)\n",
        "print(x)"
      ],
      "metadata": {
        "colab": {
          "base_uri": "https://localhost:8080/"
        },
        "id": "Efz-P2EtGLZP",
        "outputId": "b3932145-1ed3-4e3e-9e4f-fa7dc169cfcb"
      },
      "execution_count": 13,
      "outputs": [
        {
          "output_type": "stream",
          "name": "stdout",
          "text": [
            "tensor([[1., 1., 1., 1.],\n",
            "        [1., 1., 1., 1.],\n",
            "        [1., 1., 1., 1.]])\n"
          ]
        }
      ]
    },
    {
      "cell_type": "code",
      "source": [
        "# Print three dimensional ones values tensor of Size 2,3,4\n",
        "x = torch.ones(2,3,4)\n",
        "print(x)"
      ],
      "metadata": {
        "colab": {
          "base_uri": "https://localhost:8080/"
        },
        "id": "L2Wd7eUcGPg0",
        "outputId": "46bdc51f-0f13-42db-dc6c-d74f1840ea76"
      },
      "execution_count": 14,
      "outputs": [
        {
          "output_type": "stream",
          "name": "stdout",
          "text": [
            "tensor([[[1., 1., 1., 1.],\n",
            "         [1., 1., 1., 1.],\n",
            "         [1., 1., 1., 1.]],\n",
            "\n",
            "        [[1., 1., 1., 1.],\n",
            "         [1., 1., 1., 1.],\n",
            "         [1., 1., 1., 1.]]])\n"
          ]
        }
      ]
    },
    {
      "cell_type": "markdown",
      "source": [
        "**Mathematical Operation with Tensor**"
      ],
      "metadata": {
        "id": "YGWPxKtrG7NN"
      }
    },
    {
      "cell_type": "code",
      "source": [
        "x = torch.rand(2,2)\n",
        "y = torch.rand(2,2)\n",
        "\n",
        "\n",
        "print(x)\n",
        "print(y)\n",
        "# Addition\n",
        "print(\"Addition :\", x+y)\n",
        "\n",
        "# Substraction\n",
        "print(\"Substraction :\", x-y)\n",
        "\n",
        "# Multiplication\n",
        "print(\"Multiplication :\", x*y)\n",
        "\n",
        "# Division\n",
        "print(\"Division :\", x/y)"
      ],
      "metadata": {
        "colab": {
          "base_uri": "https://localhost:8080/"
        },
        "id": "ID7RzqDTGWLs",
        "outputId": "cfdd4597-a8c3-445c-e720-ac05b7b6437d"
      },
      "execution_count": 15,
      "outputs": [
        {
          "output_type": "stream",
          "name": "stdout",
          "text": [
            "tensor([[0.3553, 0.1747],\n",
            "        [0.6202, 0.9731]])\n",
            "tensor([[0.6160, 0.5260],\n",
            "        [0.3257, 0.1548]])\n",
            "Addition : tensor([[0.9714, 0.7007],\n",
            "        [0.9459, 1.1279]])\n",
            "Substraction : tensor([[-0.2607, -0.3514],\n",
            "        [ 0.2945,  0.8184]])\n",
            "Multiplication : tensor([[0.2189, 0.0919],\n",
            "        [0.2020, 0.1506]])\n",
            "Division : tensor([[0.5768, 0.3320],\n",
            "        [1.9041, 6.2884]])\n"
          ]
        }
      ]
    },
    {
      "cell_type": "code",
      "source": [
        "x = torch.rand(2,2)\n",
        "y = torch.rand(2,2)\n",
        "print(x)\n",
        "print(y)\n",
        "\n",
        "# Modify y, Add x into y \n",
        "y.add_(x)\n",
        "print(y)\n",
        "\n",
        "# Modify x, Add y into x\n",
        "x.add_(y)\n",
        "print(x)"
      ],
      "metadata": {
        "colab": {
          "base_uri": "https://localhost:8080/"
        },
        "id": "RrOu4CSYHUt1",
        "outputId": "0c1a81be-6a20-4df6-a7c8-0c4ab75daef7"
      },
      "execution_count": 16,
      "outputs": [
        {
          "output_type": "stream",
          "name": "stdout",
          "text": [
            "tensor([[0.9182, 0.7095],\n",
            "        [0.8075, 0.3879]])\n",
            "tensor([[0.3978, 0.8169],\n",
            "        [0.8528, 0.1198]])\n",
            "tensor([[1.3160, 1.5264],\n",
            "        [1.6603, 0.5077]])\n",
            "tensor([[2.2342, 2.2360],\n",
            "        [2.4678, 0.8956]])\n"
          ]
        }
      ]
    },
    {
      "cell_type": "markdown",
      "source": [
        "**Different method to Print row and columns of tensor**"
      ],
      "metadata": {
        "id": "kXWycdSkeazV"
      }
    },
    {
      "cell_type": "code",
      "source": [
        "x = torch.rand(5,2)\n",
        "print(x)"
      ],
      "metadata": {
        "colab": {
          "base_uri": "https://localhost:8080/"
        },
        "id": "zcAyD7ccLmIF",
        "outputId": "97542c98-3d20-41da-bbac-bd58e0068b17"
      },
      "execution_count": 17,
      "outputs": [
        {
          "output_type": "stream",
          "name": "stdout",
          "text": [
            "tensor([[0.0709, 0.5005],\n",
            "        [0.5952, 0.5678],\n",
            "        [0.6353, 0.8725],\n",
            "        [0.5357, 0.5254],\n",
            "        [0.3308, 0.6982]])\n"
          ]
        }
      ]
    },
    {
      "cell_type": "code",
      "source": [
        "#print only first column\n",
        "print(x[:,0])"
      ],
      "metadata": {
        "colab": {
          "base_uri": "https://localhost:8080/"
        },
        "id": "ZXWcLStNeCXR",
        "outputId": "d91f6925-60a6-4d3b-bb0c-c06a54551de3"
      },
      "execution_count": 18,
      "outputs": [
        {
          "output_type": "stream",
          "name": "stdout",
          "text": [
            "tensor([0.0709, 0.5952, 0.6353, 0.5357, 0.3308])\n"
          ]
        }
      ]
    },
    {
      "cell_type": "code",
      "source": [
        "#print only first row\n",
        "print(x[0,:])"
      ],
      "metadata": {
        "colab": {
          "base_uri": "https://localhost:8080/"
        },
        "id": "VxtyPwpqeWZZ",
        "outputId": "76a8c101-b2eb-4401-a5be-cd13338bd260"
      },
      "execution_count": 19,
      "outputs": [
        {
          "output_type": "stream",
          "name": "stdout",
          "text": [
            "tensor([0.0709, 0.5005])\n"
          ]
        }
      ]
    },
    {
      "cell_type": "code",
      "source": [
        "# print only second column\n",
        "print(x[:,1])"
      ],
      "metadata": {
        "colab": {
          "base_uri": "https://localhost:8080/"
        },
        "id": "kFGGVjJDeqYD",
        "outputId": "7a8ebcfc-02df-4e70-eab6-707e1af0fdcc"
      },
      "execution_count": 20,
      "outputs": [
        {
          "output_type": "stream",
          "name": "stdout",
          "text": [
            "tensor([0.5005, 0.5678, 0.8725, 0.5254, 0.6982])\n"
          ]
        }
      ]
    },
    {
      "cell_type": "code",
      "source": [
        "#Print only second row\n",
        "print(x[1,:])"
      ],
      "metadata": {
        "colab": {
          "base_uri": "https://localhost:8080/"
        },
        "id": "sET1YUJefC5w",
        "outputId": "85171c23-1d7e-41d3-8476-e92c1a392910"
      },
      "execution_count": 21,
      "outputs": [
        {
          "output_type": "stream",
          "name": "stdout",
          "text": [
            "tensor([0.5952, 0.5678])\n"
          ]
        }
      ]
    },
    {
      "cell_type": "code",
      "source": [
        "# Print all rows and all columns\n",
        "print(x[:,:])"
      ],
      "metadata": {
        "colab": {
          "base_uri": "https://localhost:8080/"
        },
        "id": "3Llq57kVfJYY",
        "outputId": "12a5ddc4-3e00-40ef-a5d5-558a52a51b64"
      },
      "execution_count": 22,
      "outputs": [
        {
          "output_type": "stream",
          "name": "stdout",
          "text": [
            "tensor([[0.0709, 0.5005],\n",
            "        [0.5952, 0.5678],\n",
            "        [0.6353, 0.8725],\n",
            "        [0.5357, 0.5254],\n",
            "        [0.3308, 0.6982]])\n"
          ]
        }
      ]
    },
    {
      "cell_type": "code",
      "source": [
        "# Print particluar values using item\n",
        "x = torch.rand(5,3)\n",
        "print(x)\n",
        "print(x[1,1].item())"
      ],
      "metadata": {
        "colab": {
          "base_uri": "https://localhost:8080/"
        },
        "id": "tqX1OpdlfSRR",
        "outputId": "a8c8e8e2-b8ae-4974-f11f-45f2d4c81afd"
      },
      "execution_count": 23,
      "outputs": [
        {
          "output_type": "stream",
          "name": "stdout",
          "text": [
            "tensor([[0.5554, 0.4095, 0.7589],\n",
            "        [0.0320, 0.4255, 0.3128],\n",
            "        [0.7879, 0.9415, 0.2065],\n",
            "        [0.4216, 0.6264, 0.9356],\n",
            "        [0.1641, 0.2472, 0.2116]])\n",
            "0.4254978895187378\n"
          ]
        }
      ]
    },
    {
      "cell_type": "markdown",
      "source": [
        "**Reshape tensor**"
      ],
      "metadata": {
        "id": "X9ifOablg3M1"
      }
    },
    {
      "cell_type": "code",
      "source": [
        "x = torch.rand(4,4)\n",
        "print(x)\n",
        "\n",
        "# Reshape tensor using view \n",
        "y = x.view(8,2)\n",
        "print(y)"
      ],
      "metadata": {
        "colab": {
          "base_uri": "https://localhost:8080/"
        },
        "id": "cwUyl98Rfmqh",
        "outputId": "643f127b-1973-4d1e-9abc-3bb38f1f1e8f"
      },
      "execution_count": 24,
      "outputs": [
        {
          "output_type": "stream",
          "name": "stdout",
          "text": [
            "tensor([[0.7185, 0.7534, 0.1578, 0.2561],\n",
            "        [0.2410, 0.7219, 0.7158, 0.9558],\n",
            "        [0.8288, 0.4462, 0.1463, 0.9500],\n",
            "        [0.8943, 0.5773, 0.4259, 0.5751]])\n",
            "tensor([[0.7185, 0.7534],\n",
            "        [0.1578, 0.2561],\n",
            "        [0.2410, 0.7219],\n",
            "        [0.7158, 0.9558],\n",
            "        [0.8288, 0.4462],\n",
            "        [0.1463, 0.9500],\n",
            "        [0.8943, 0.5773],\n",
            "        [0.4259, 0.5751]])\n"
          ]
        }
      ]
    },
    {
      "cell_type": "markdown",
      "source": [
        "**Convert tensor into numpy array** "
      ],
      "metadata": {
        "id": "oxMGMxGpiPqR"
      }
    },
    {
      "cell_type": "code",
      "source": [
        "# convert tensor to numpy\n",
        "a = torch.ones(4)\n",
        "print(a)\n",
        "b = a.numpy()\n",
        "print(b)"
      ],
      "metadata": {
        "colab": {
          "base_uri": "https://localhost:8080/"
        },
        "id": "d6vepZJZhJxZ",
        "outputId": "f6943911-eba6-4883-bc28-d72549c2372c"
      },
      "execution_count": 25,
      "outputs": [
        {
          "output_type": "stream",
          "name": "stdout",
          "text": [
            "tensor([1., 1., 1., 1.])\n",
            "[1. 1. 1. 1.]\n"
          ]
        }
      ]
    },
    {
      "cell_type": "code",
      "source": [
        "type(a)"
      ],
      "metadata": {
        "colab": {
          "base_uri": "https://localhost:8080/"
        },
        "id": "IYz8GS8Fh8Gx",
        "outputId": "a5d21361-d06f-496e-fb11-329e26ef6a1e"
      },
      "execution_count": 26,
      "outputs": [
        {
          "output_type": "execute_result",
          "data": {
            "text/plain": [
              "torch.Tensor"
            ]
          },
          "metadata": {},
          "execution_count": 26
        }
      ]
    },
    {
      "cell_type": "code",
      "source": [
        "type(b)"
      ],
      "metadata": {
        "colab": {
          "base_uri": "https://localhost:8080/"
        },
        "id": "HGa6q1oTh9_h",
        "outputId": "2e7642c7-4a32-4d10-db77-3ad08e60f814"
      },
      "execution_count": 27,
      "outputs": [
        {
          "output_type": "execute_result",
          "data": {
            "text/plain": [
              "numpy.ndarray"
            ]
          },
          "metadata": {},
          "execution_count": 27
        }
      ]
    },
    {
      "cell_type": "code",
      "source": [
        "# Both tensor and numpy are run on diffenrent machine but both are store in same memory location\n",
        "a.add_(1)\n",
        "print(a)\n",
        "print(b)"
      ],
      "metadata": {
        "colab": {
          "base_uri": "https://localhost:8080/"
        },
        "id": "hfBmkxUkh_ex",
        "outputId": "62d8d967-8aef-4c11-862c-760e1086e6f6"
      },
      "execution_count": 28,
      "outputs": [
        {
          "output_type": "stream",
          "name": "stdout",
          "text": [
            "tensor([2., 2., 2., 2.])\n",
            "[2. 2. 2. 2.]\n"
          ]
        }
      ]
    },
    {
      "cell_type": "markdown",
      "source": [
        "**Convert numpy array into tensor**"
      ],
      "metadata": {
        "id": "nih0CmuTjOuL"
      }
    },
    {
      "cell_type": "code",
      "source": [
        "a = np.ones(4)\n",
        "print(a)\n",
        "b = torch.from_numpy(a)\n",
        "print(b)"
      ],
      "metadata": {
        "colab": {
          "base_uri": "https://localhost:8080/"
        },
        "id": "Rmw3YTcEizcy",
        "outputId": "fe24f283-0c68-47e1-b381-459e17463cdc"
      },
      "execution_count": 29,
      "outputs": [
        {
          "output_type": "stream",
          "name": "stdout",
          "text": [
            "[1. 1. 1. 1.]\n",
            "tensor([1., 1., 1., 1.], dtype=torch.float64)\n"
          ]
        }
      ]
    },
    {
      "cell_type": "code",
      "source": [
        "a = a+1\n",
        "print(a)\n",
        "print(b)"
      ],
      "metadata": {
        "colab": {
          "base_uri": "https://localhost:8080/"
        },
        "id": "xYtgZ5Grjkvy",
        "outputId": "1e1e805d-a1f3-46a3-c980-bf1b7ac34a3f"
      },
      "execution_count": 30,
      "outputs": [
        {
          "output_type": "stream",
          "name": "stdout",
          "text": [
            "[2. 2. 2. 2.]\n",
            "tensor([1., 1., 1., 1.], dtype=torch.float64)\n"
          ]
        }
      ]
    }
  ]
}